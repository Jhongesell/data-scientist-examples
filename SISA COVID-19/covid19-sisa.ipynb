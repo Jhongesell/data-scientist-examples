{
 "cells": [
  {
   "cell_type": "markdown",
   "metadata": {},
   "source": [
    "# Obtener y limpiar los datos"
   ]
  },
  {
   "cell_type": "code",
   "execution_count": 1,
   "metadata": {},
   "outputs": [],
   "source": [
    "import pandas as pd\n",
    "import urllib3 as url3"
   ]
  },
  {
   "cell_type": "code",
   "execution_count": 2,
   "metadata": {},
   "outputs": [],
   "source": [
    "http = url3.PoolManager()"
   ]
  },
  {
   "cell_type": "code",
   "execution_count": 3,
   "metadata": {},
   "outputs": [],
   "source": [
    "csv_link = \"https://sisa.msal.gov.ar/datos/descargas/covid-19/files/Covid19Determinaciones.csv\""
   ]
  },
  {
   "cell_type": "code",
   "execution_count": 4,
   "metadata": {},
   "outputs": [],
   "source": [
    "request = http.request(\"GET\", csv_link)"
   ]
  },
  {
   "cell_type": "code",
   "execution_count": 5,
   "metadata": {},
   "outputs": [
    {
     "data": {
      "text/plain": [
       "200"
      ]
     },
     "execution_count": 5,
     "metadata": {},
     "output_type": "execute_result"
    }
   ],
   "source": [
    "request.status"
   ]
  },
  {
   "cell_type": "code",
   "execution_count": 6,
   "metadata": {},
   "outputs": [],
   "source": [
    "dataset = (request.data).decode(\"utf-16\").strip().split(\"\\r\")"
   ]
  },
  {
   "cell_type": "code",
   "execution_count": 7,
   "metadata": {},
   "outputs": [],
   "source": [
    "columnas = dataset[0].replace('\"','').split(\",\")"
   ]
  },
  {
   "cell_type": "code",
   "execution_count": 8,
   "metadata": {},
   "outputs": [],
   "source": [
    "diccionario = {columna:[] for columna in columnas}"
   ]
  },
  {
   "cell_type": "code",
   "execution_count": 9,
   "metadata": {},
   "outputs": [],
   "source": [
    "for linea in range(1, len(dataset)):\n",
    "    for i in range(0, len(columnas)):\n",
    "        [diccionario[columnas[i]].append(dataset[linea].strip().split(\",\")[i].replace('\"',''))]"
   ]
  },
  {
   "cell_type": "code",
   "execution_count": 10,
   "metadata": {},
   "outputs": [],
   "source": [
    "covid_df = pd.DataFrame(diccionario)"
   ]
  },
  {
   "cell_type": "code",
   "execution_count": 11,
   "metadata": {},
   "outputs": [
    {
     "data": {
      "text/html": [
       "<div>\n",
       "<style scoped>\n",
       "    .dataframe tbody tr th:only-of-type {\n",
       "        vertical-align: middle;\n",
       "    }\n",
       "\n",
       "    .dataframe tbody tr th {\n",
       "        vertical-align: top;\n",
       "    }\n",
       "\n",
       "    .dataframe thead th {\n",
       "        text-align: right;\n",
       "    }\n",
       "</style>\n",
       "<table border=\"1\" class=\"dataframe\">\n",
       "  <thead>\n",
       "    <tr style=\"text-align: right;\">\n",
       "      <th></th>\n",
       "      <th>fecha</th>\n",
       "      <th>provincia</th>\n",
       "      <th>codigo_indec_provincia</th>\n",
       "      <th>departamento</th>\n",
       "      <th>codigo_indec_departamento</th>\n",
       "      <th>localidad</th>\n",
       "      <th>codigo_indec_localidad</th>\n",
       "      <th>origen_de_financiamiento</th>\n",
       "      <th>tipo</th>\n",
       "      <th>ultima_actualizacion</th>\n",
       "      <th>total</th>\n",
       "      <th>positivos</th>\n",
       "    </tr>\n",
       "  </thead>\n",
       "  <tbody>\n",
       "    <tr>\n",
       "      <th>0</th>\n",
       "      <td>2020-02-11</td>\n",
       "      <td>CABA</td>\n",
       "      <td>02</td>\n",
       "      <td>COMUNA 4</td>\n",
       "      <td>004</td>\n",
       "      <td>PARQUE PATRICIOS</td>\n",
       "      <td>010</td>\n",
       "      <td>Público</td>\n",
       "      <td>Nacional</td>\n",
       "      <td>2020-07-08</td>\n",
       "      <td>2</td>\n",
       "      <td></td>\n",
       "    </tr>\n",
       "    <tr>\n",
       "      <th>1</th>\n",
       "      <td>2020-02-20</td>\n",
       "      <td>CABA</td>\n",
       "      <td>02</td>\n",
       "      <td>COMUNA 4</td>\n",
       "      <td>004</td>\n",
       "      <td>PARQUE PATRICIOS</td>\n",
       "      <td>010</td>\n",
       "      <td>Público</td>\n",
       "      <td>Nacional</td>\n",
       "      <td>2020-07-08</td>\n",
       "      <td>1</td>\n",
       "      <td></td>\n",
       "    </tr>\n",
       "    <tr>\n",
       "      <th>2</th>\n",
       "      <td>2020-02-20</td>\n",
       "      <td>Buenos Aires</td>\n",
       "      <td>06</td>\n",
       "      <td>Bahía Blanca</td>\n",
       "      <td>056</td>\n",
       "      <td>BAHIA BLANCA</td>\n",
       "      <td>010</td>\n",
       "      <td>Privado</td>\n",
       "      <td>Privado</td>\n",
       "      <td>2020-07-08</td>\n",
       "      <td>1</td>\n",
       "      <td></td>\n",
       "    </tr>\n",
       "    <tr>\n",
       "      <th>3</th>\n",
       "      <td>2020-02-27</td>\n",
       "      <td>CABA</td>\n",
       "      <td>02</td>\n",
       "      <td>COMUNA 4</td>\n",
       "      <td>004</td>\n",
       "      <td>PARQUE PATRICIOS</td>\n",
       "      <td>010</td>\n",
       "      <td>Público</td>\n",
       "      <td>Nacional</td>\n",
       "      <td>2020-07-08</td>\n",
       "      <td>4</td>\n",
       "      <td></td>\n",
       "    </tr>\n",
       "    <tr>\n",
       "      <th>4</th>\n",
       "      <td>2020-02-28</td>\n",
       "      <td>CABA</td>\n",
       "      <td>02</td>\n",
       "      <td>COMUNA 4</td>\n",
       "      <td>004</td>\n",
       "      <td>PARQUE PATRICIOS</td>\n",
       "      <td>010</td>\n",
       "      <td>Público</td>\n",
       "      <td>Nacional</td>\n",
       "      <td>2020-07-08</td>\n",
       "      <td>10</td>\n",
       "      <td></td>\n",
       "    </tr>\n",
       "  </tbody>\n",
       "</table>\n",
       "</div>"
      ],
      "text/plain": [
       "        fecha     provincia codigo_indec_provincia  departamento  \\\n",
       "0  2020-02-11          CABA                     02      COMUNA 4   \n",
       "1  2020-02-20          CABA                     02      COMUNA 4   \n",
       "2  2020-02-20  Buenos Aires                     06  Bahía Blanca   \n",
       "3  2020-02-27          CABA                     02      COMUNA 4   \n",
       "4  2020-02-28          CABA                     02      COMUNA 4   \n",
       "\n",
       "  codigo_indec_departamento         localidad codigo_indec_localidad  \\\n",
       "0                       004  PARQUE PATRICIOS                    010   \n",
       "1                       004  PARQUE PATRICIOS                    010   \n",
       "2                       056      BAHIA BLANCA                    010   \n",
       "3                       004  PARQUE PATRICIOS                    010   \n",
       "4                       004  PARQUE PATRICIOS                    010   \n",
       "\n",
       "  origen_de_financiamiento      tipo ultima_actualizacion total positivos  \n",
       "0                  Público  Nacional           2020-07-08     2            \n",
       "1                  Público  Nacional           2020-07-08     1            \n",
       "2                  Privado   Privado           2020-07-08     1            \n",
       "3                  Público  Nacional           2020-07-08     4            \n",
       "4                  Público  Nacional           2020-07-08    10            "
      ]
     },
     "execution_count": 11,
     "metadata": {},
     "output_type": "execute_result"
    }
   ],
   "source": [
    "covid_df.head()"
   ]
  },
  {
   "cell_type": "markdown",
   "metadata": {},
   "source": [
    "# Añadiendo datos faltantes a la columna positivos"
   ]
  },
  {
   "cell_type": "code",
   "execution_count": 12,
   "metadata": {},
   "outputs": [],
   "source": [
    "covid_df['positivos'] = covid_df['positivos'].replace(\"\",0)"
   ]
  },
  {
   "cell_type": "code",
   "execution_count": 13,
   "metadata": {},
   "outputs": [],
   "source": [
    "covid_df['positivos'] = [int(i) for i in covid_df['positivos']]"
   ]
  },
  {
   "cell_type": "code",
   "execution_count": 14,
   "metadata": {},
   "outputs": [
    {
     "data": {
      "text/html": [
       "<div>\n",
       "<style scoped>\n",
       "    .dataframe tbody tr th:only-of-type {\n",
       "        vertical-align: middle;\n",
       "    }\n",
       "\n",
       "    .dataframe tbody tr th {\n",
       "        vertical-align: top;\n",
       "    }\n",
       "\n",
       "    .dataframe thead th {\n",
       "        text-align: right;\n",
       "    }\n",
       "</style>\n",
       "<table border=\"1\" class=\"dataframe\">\n",
       "  <thead>\n",
       "    <tr style=\"text-align: right;\">\n",
       "      <th></th>\n",
       "      <th>fecha</th>\n",
       "      <th>provincia</th>\n",
       "      <th>codigo_indec_provincia</th>\n",
       "      <th>departamento</th>\n",
       "      <th>codigo_indec_departamento</th>\n",
       "      <th>localidad</th>\n",
       "      <th>codigo_indec_localidad</th>\n",
       "      <th>origen_de_financiamiento</th>\n",
       "      <th>tipo</th>\n",
       "      <th>ultima_actualizacion</th>\n",
       "      <th>total</th>\n",
       "      <th>positivos</th>\n",
       "    </tr>\n",
       "  </thead>\n",
       "  <tbody>\n",
       "    <tr>\n",
       "      <th>0</th>\n",
       "      <td>2020-02-11</td>\n",
       "      <td>CABA</td>\n",
       "      <td>02</td>\n",
       "      <td>COMUNA 4</td>\n",
       "      <td>004</td>\n",
       "      <td>PARQUE PATRICIOS</td>\n",
       "      <td>010</td>\n",
       "      <td>Público</td>\n",
       "      <td>Nacional</td>\n",
       "      <td>2020-07-08</td>\n",
       "      <td>2</td>\n",
       "      <td>0</td>\n",
       "    </tr>\n",
       "    <tr>\n",
       "      <th>1</th>\n",
       "      <td>2020-02-20</td>\n",
       "      <td>CABA</td>\n",
       "      <td>02</td>\n",
       "      <td>COMUNA 4</td>\n",
       "      <td>004</td>\n",
       "      <td>PARQUE PATRICIOS</td>\n",
       "      <td>010</td>\n",
       "      <td>Público</td>\n",
       "      <td>Nacional</td>\n",
       "      <td>2020-07-08</td>\n",
       "      <td>1</td>\n",
       "      <td>0</td>\n",
       "    </tr>\n",
       "    <tr>\n",
       "      <th>2</th>\n",
       "      <td>2020-02-20</td>\n",
       "      <td>Buenos Aires</td>\n",
       "      <td>06</td>\n",
       "      <td>Bahía Blanca</td>\n",
       "      <td>056</td>\n",
       "      <td>BAHIA BLANCA</td>\n",
       "      <td>010</td>\n",
       "      <td>Privado</td>\n",
       "      <td>Privado</td>\n",
       "      <td>2020-07-08</td>\n",
       "      <td>1</td>\n",
       "      <td>0</td>\n",
       "    </tr>\n",
       "    <tr>\n",
       "      <th>3</th>\n",
       "      <td>2020-02-27</td>\n",
       "      <td>CABA</td>\n",
       "      <td>02</td>\n",
       "      <td>COMUNA 4</td>\n",
       "      <td>004</td>\n",
       "      <td>PARQUE PATRICIOS</td>\n",
       "      <td>010</td>\n",
       "      <td>Público</td>\n",
       "      <td>Nacional</td>\n",
       "      <td>2020-07-08</td>\n",
       "      <td>4</td>\n",
       "      <td>0</td>\n",
       "    </tr>\n",
       "    <tr>\n",
       "      <th>4</th>\n",
       "      <td>2020-02-28</td>\n",
       "      <td>CABA</td>\n",
       "      <td>02</td>\n",
       "      <td>COMUNA 4</td>\n",
       "      <td>004</td>\n",
       "      <td>PARQUE PATRICIOS</td>\n",
       "      <td>010</td>\n",
       "      <td>Público</td>\n",
       "      <td>Nacional</td>\n",
       "      <td>2020-07-08</td>\n",
       "      <td>10</td>\n",
       "      <td>0</td>\n",
       "    </tr>\n",
       "  </tbody>\n",
       "</table>\n",
       "</div>"
      ],
      "text/plain": [
       "        fecha     provincia codigo_indec_provincia  departamento  \\\n",
       "0  2020-02-11          CABA                     02      COMUNA 4   \n",
       "1  2020-02-20          CABA                     02      COMUNA 4   \n",
       "2  2020-02-20  Buenos Aires                     06  Bahía Blanca   \n",
       "3  2020-02-27          CABA                     02      COMUNA 4   \n",
       "4  2020-02-28          CABA                     02      COMUNA 4   \n",
       "\n",
       "  codigo_indec_departamento         localidad codigo_indec_localidad  \\\n",
       "0                       004  PARQUE PATRICIOS                    010   \n",
       "1                       004  PARQUE PATRICIOS                    010   \n",
       "2                       056      BAHIA BLANCA                    010   \n",
       "3                       004  PARQUE PATRICIOS                    010   \n",
       "4                       004  PARQUE PATRICIOS                    010   \n",
       "\n",
       "  origen_de_financiamiento      tipo ultima_actualizacion total  positivos  \n",
       "0                  Público  Nacional           2020-07-08     2          0  \n",
       "1                  Público  Nacional           2020-07-08     1          0  \n",
       "2                  Privado   Privado           2020-07-08     1          0  \n",
       "3                  Público  Nacional           2020-07-08     4          0  \n",
       "4                  Público  Nacional           2020-07-08    10          0  "
      ]
     },
     "execution_count": 14,
     "metadata": {},
     "output_type": "execute_result"
    }
   ],
   "source": [
    "covid_df.head()"
   ]
  },
  {
   "cell_type": "markdown",
   "metadata": {},
   "source": [
    "# Data Wringling\n",
    "\n",
    "#### En este apartado vamos a obtener un dataset de cada provincia teniendo en cuenta todas sus localidades"
   ]
  },
  {
   "cell_type": "code",
   "execution_count": 15,
   "metadata": {},
   "outputs": [],
   "source": [
    "lista_provincias = [\"Buenos Aires\", \"CABA\", \"Catamarca\", \"Chaco\",\n",
    "                    \"Chubut\", \"Córdoba\", \"Corrientes\",\n",
    "                    \"Entre Ríos\", \"Formosa\", \"Jujuy\",\n",
    "                    \"La Pampa\", \"La Rioja\", \"Mendoza\",\n",
    "                    \"Misiones\", \"Neuquén\", \"Río Negro\",\n",
    "                    \"Salta\", \"San Juan\", \"San Luis\",\n",
    "                    \"Santa Cruz\", \"Santa Fe\", \"Santiago del Estero\",\n",
    "                    \"Tierra del Fuego\", \"Tucumán\"]\n",
    "\n",
    "# Para mostrar el dataframe solo es necesario llamar al key\n",
    "# df_provincias[\"Nombre de la provincia\"]\n",
    "\n",
    "# Si queremos saber por ejemplo las filas y columnas\n",
    "# df_provincias[\"Nombre de la provincia\"].shape\n",
    "\n",
    "# Promedio\n",
    "# df_provincias[\"Salta\"][\"positivos\"].mean() <- Promedio de todos los positivos \n",
    "\n",
    "# Obtener un departamento en específico\n",
    "# san_carlos = df_provincias[\"Salta\"][df_provincias[\"Salta\"][\"departamento\"] == \"San Carlos\"] \n",
    "\n",
    "# Suma de todos los infectados\n",
    "# sum(salta_capital[\"positivos\"].tolist())\n"
   ]
  },
  {
   "cell_type": "code",
   "execution_count": 18,
   "metadata": {},
   "outputs": [],
   "source": [
    "df_provincias = {provincia:covid_df[covid_df[\"provincia\"] == provincia] for provincia in lista_provincias}"
   ]
  },
  {
   "cell_type": "markdown",
   "metadata": {},
   "source": [
    "### Pruebas con la provincia de Salta"
   ]
  },
  {
   "cell_type": "code",
   "execution_count": 17,
   "metadata": {
    "scrolled": true
   },
   "outputs": [
    {
     "data": {
      "text/html": [
       "<div>\n",
       "<style scoped>\n",
       "    .dataframe tbody tr th:only-of-type {\n",
       "        vertical-align: middle;\n",
       "    }\n",
       "\n",
       "    .dataframe tbody tr th {\n",
       "        vertical-align: top;\n",
       "    }\n",
       "\n",
       "    .dataframe thead th {\n",
       "        text-align: right;\n",
       "    }\n",
       "</style>\n",
       "<table border=\"1\" class=\"dataframe\">\n",
       "  <thead>\n",
       "    <tr style=\"text-align: right;\">\n",
       "      <th></th>\n",
       "      <th>fecha</th>\n",
       "      <th>provincia</th>\n",
       "      <th>codigo_indec_provincia</th>\n",
       "      <th>departamento</th>\n",
       "      <th>codigo_indec_departamento</th>\n",
       "      <th>localidad</th>\n",
       "      <th>codigo_indec_localidad</th>\n",
       "      <th>origen_de_financiamiento</th>\n",
       "      <th>tipo</th>\n",
       "      <th>ultima_actualizacion</th>\n",
       "      <th>total</th>\n",
       "      <th>positivos</th>\n",
       "    </tr>\n",
       "  </thead>\n",
       "  <tbody>\n",
       "    <tr>\n",
       "      <th>260</th>\n",
       "      <td>2020-03-31</td>\n",
       "      <td>Salta</td>\n",
       "      <td>66</td>\n",
       "      <td>Capital</td>\n",
       "      <td>028</td>\n",
       "      <td>SALTA</td>\n",
       "      <td>050</td>\n",
       "      <td>Público</td>\n",
       "      <td>Provincial</td>\n",
       "      <td>2020-07-08</td>\n",
       "      <td>1</td>\n",
       "      <td>0</td>\n",
       "    </tr>\n",
       "    <tr>\n",
       "      <th>304</th>\n",
       "      <td>2020-04-01</td>\n",
       "      <td>Salta</td>\n",
       "      <td>66</td>\n",
       "      <td>Capital</td>\n",
       "      <td>028</td>\n",
       "      <td>SALTA</td>\n",
       "      <td>050</td>\n",
       "      <td>Privado</td>\n",
       "      <td>Privado</td>\n",
       "      <td>2020-07-08</td>\n",
       "      <td>1</td>\n",
       "      <td>1</td>\n",
       "    </tr>\n",
       "    <tr>\n",
       "      <th>305</th>\n",
       "      <td>2020-04-01</td>\n",
       "      <td>Salta</td>\n",
       "      <td>66</td>\n",
       "      <td>Capital</td>\n",
       "      <td>028</td>\n",
       "      <td>SALTA</td>\n",
       "      <td>050</td>\n",
       "      <td>Público</td>\n",
       "      <td>Provincial</td>\n",
       "      <td>2020-07-08</td>\n",
       "      <td>8</td>\n",
       "      <td>1</td>\n",
       "    </tr>\n",
       "    <tr>\n",
       "      <th>353</th>\n",
       "      <td>2020-04-02</td>\n",
       "      <td>Salta</td>\n",
       "      <td>66</td>\n",
       "      <td>Capital</td>\n",
       "      <td>028</td>\n",
       "      <td>SALTA</td>\n",
       "      <td>050</td>\n",
       "      <td>Público</td>\n",
       "      <td>Provincial</td>\n",
       "      <td>2020-07-08</td>\n",
       "      <td>7</td>\n",
       "      <td>1</td>\n",
       "    </tr>\n",
       "    <tr>\n",
       "      <th>411</th>\n",
       "      <td>2020-04-03</td>\n",
       "      <td>Salta</td>\n",
       "      <td>66</td>\n",
       "      <td>Capital</td>\n",
       "      <td>028</td>\n",
       "      <td>SALTA</td>\n",
       "      <td>050</td>\n",
       "      <td>Público</td>\n",
       "      <td>Provincial</td>\n",
       "      <td>2020-07-08</td>\n",
       "      <td>3</td>\n",
       "      <td>0</td>\n",
       "    </tr>\n",
       "    <tr>\n",
       "      <th>...</th>\n",
       "      <td>...</td>\n",
       "      <td>...</td>\n",
       "      <td>...</td>\n",
       "      <td>...</td>\n",
       "      <td>...</td>\n",
       "      <td>...</td>\n",
       "      <td>...</td>\n",
       "      <td>...</td>\n",
       "      <td>...</td>\n",
       "      <td>...</td>\n",
       "      <td>...</td>\n",
       "      <td>...</td>\n",
       "    </tr>\n",
       "    <tr>\n",
       "      <th>8709</th>\n",
       "      <td>2020-07-06</td>\n",
       "      <td>Salta</td>\n",
       "      <td>66</td>\n",
       "      <td>Capital</td>\n",
       "      <td>028</td>\n",
       "      <td>SALTA</td>\n",
       "      <td>050</td>\n",
       "      <td>Público</td>\n",
       "      <td>Provincial</td>\n",
       "      <td>2020-07-08</td>\n",
       "      <td>175</td>\n",
       "      <td>0</td>\n",
       "    </tr>\n",
       "    <tr>\n",
       "      <th>8832</th>\n",
       "      <td>2020-07-07</td>\n",
       "      <td>Salta</td>\n",
       "      <td>66</td>\n",
       "      <td>Capital</td>\n",
       "      <td>028</td>\n",
       "      <td>SALTA</td>\n",
       "      <td>050</td>\n",
       "      <td>Privado</td>\n",
       "      <td>Privado</td>\n",
       "      <td>2020-07-08</td>\n",
       "      <td>216</td>\n",
       "      <td>19</td>\n",
       "    </tr>\n",
       "    <tr>\n",
       "      <th>8833</th>\n",
       "      <td>2020-07-07</td>\n",
       "      <td>Salta</td>\n",
       "      <td>66</td>\n",
       "      <td>Capital</td>\n",
       "      <td>028</td>\n",
       "      <td>SALTA</td>\n",
       "      <td>050</td>\n",
       "      <td>Público</td>\n",
       "      <td>Provincial</td>\n",
       "      <td>2020-07-08</td>\n",
       "      <td>136</td>\n",
       "      <td>16</td>\n",
       "    </tr>\n",
       "    <tr>\n",
       "      <th>8909</th>\n",
       "      <td>2020-07-08</td>\n",
       "      <td>Salta</td>\n",
       "      <td>66</td>\n",
       "      <td>Capital</td>\n",
       "      <td>028</td>\n",
       "      <td>SALTA</td>\n",
       "      <td>050</td>\n",
       "      <td>Privado</td>\n",
       "      <td>Privado</td>\n",
       "      <td>2020-07-08</td>\n",
       "      <td>5</td>\n",
       "      <td>1</td>\n",
       "    </tr>\n",
       "    <tr>\n",
       "      <th>8910</th>\n",
       "      <td>2020-07-08</td>\n",
       "      <td>Salta</td>\n",
       "      <td>66</td>\n",
       "      <td>Capital</td>\n",
       "      <td>028</td>\n",
       "      <td>SALTA</td>\n",
       "      <td>050</td>\n",
       "      <td>Público</td>\n",
       "      <td>Provincial</td>\n",
       "      <td>2020-07-08</td>\n",
       "      <td>132</td>\n",
       "      <td>1</td>\n",
       "    </tr>\n",
       "  </tbody>\n",
       "</table>\n",
       "<p>164 rows × 12 columns</p>\n",
       "</div>"
      ],
      "text/plain": [
       "           fecha provincia codigo_indec_provincia departamento  \\\n",
       "260   2020-03-31     Salta                     66      Capital   \n",
       "304   2020-04-01     Salta                     66      Capital   \n",
       "305   2020-04-01     Salta                     66      Capital   \n",
       "353   2020-04-02     Salta                     66      Capital   \n",
       "411   2020-04-03     Salta                     66      Capital   \n",
       "...          ...       ...                    ...          ...   \n",
       "8709  2020-07-06     Salta                     66      Capital   \n",
       "8832  2020-07-07     Salta                     66      Capital   \n",
       "8833  2020-07-07     Salta                     66      Capital   \n",
       "8909  2020-07-08     Salta                     66      Capital   \n",
       "8910  2020-07-08     Salta                     66      Capital   \n",
       "\n",
       "     codigo_indec_departamento localidad codigo_indec_localidad  \\\n",
       "260                        028     SALTA                    050   \n",
       "304                        028     SALTA                    050   \n",
       "305                        028     SALTA                    050   \n",
       "353                        028     SALTA                    050   \n",
       "411                        028     SALTA                    050   \n",
       "...                        ...       ...                    ...   \n",
       "8709                       028     SALTA                    050   \n",
       "8832                       028     SALTA                    050   \n",
       "8833                       028     SALTA                    050   \n",
       "8909                       028     SALTA                    050   \n",
       "8910                       028     SALTA                    050   \n",
       "\n",
       "     origen_de_financiamiento        tipo ultima_actualizacion total  \\\n",
       "260                   Público  Provincial           2020-07-08     1   \n",
       "304                   Privado     Privado           2020-07-08     1   \n",
       "305                   Público  Provincial           2020-07-08     8   \n",
       "353                   Público  Provincial           2020-07-08     7   \n",
       "411                   Público  Provincial           2020-07-08     3   \n",
       "...                       ...         ...                  ...   ...   \n",
       "8709                  Público  Provincial           2020-07-08   175   \n",
       "8832                  Privado     Privado           2020-07-08   216   \n",
       "8833                  Público  Provincial           2020-07-08   136   \n",
       "8909                  Privado     Privado           2020-07-08     5   \n",
       "8910                  Público  Provincial           2020-07-08   132   \n",
       "\n",
       "      positivos  \n",
       "260           0  \n",
       "304           1  \n",
       "305           1  \n",
       "353           1  \n",
       "411           0  \n",
       "...         ...  \n",
       "8709          0  \n",
       "8832         19  \n",
       "8833         16  \n",
       "8909          1  \n",
       "8910          1  \n",
       "\n",
       "[164 rows x 12 columns]"
      ]
     },
     "execution_count": 17,
     "metadata": {},
     "output_type": "execute_result"
    }
   ],
   "source": [
    "df_provincias[\"Salta\"]"
   ]
  },
  {
   "cell_type": "markdown",
   "metadata": {},
   "source": [
    "### Obtener solo el departamento \"Capital\""
   ]
  },
  {
   "cell_type": "code",
   "execution_count": 30,
   "metadata": {},
   "outputs": [],
   "source": [
    "salta_capital = df_provincias[\"Salta\"][df_provincias[\"Salta\"][\"departamento\"] == \"Capital\"] "
   ]
  },
  {
   "cell_type": "markdown",
   "metadata": {},
   "source": [
    "### Sumar la cantidad de \"positivos\""
   ]
  },
  {
   "cell_type": "code",
   "execution_count": 31,
   "metadata": {},
   "outputs": [
    {
     "data": {
      "text/plain": [
       "165"
      ]
     },
     "execution_count": 31,
     "metadata": {},
     "output_type": "execute_result"
    }
   ],
   "source": [
    "sum(salta_capital[\"positivos\"].tolist())"
   ]
  },
  {
   "cell_type": "markdown",
   "metadata": {},
   "source": [
    "# Gráficos"
   ]
  },
  {
   "cell_type": "markdown",
   "metadata": {},
   "source": [
    "## A modo de ejemplo se muestra como se pueden realizar gráficos"
   ]
  },
  {
   "cell_type": "code",
   "execution_count": 33,
   "metadata": {},
   "outputs": [],
   "source": [
    "import matplotlib.pyplot as plt\n",
    "import numpy as np"
   ]
  },
  {
   "cell_type": "code",
   "execution_count": 36,
   "metadata": {},
   "outputs": [],
   "source": [
    "def getBoxplot(df, columna):\n",
    "    plt.boxplot(df[columna])\n",
    "    plt.ylabel(\"Frecuencia\")\n",
    "    plt.title(\"Promedio de positivos\")\n",
    "\n",
    "def getHist(df, columna):\n",
    "    plt.hist(df[columna], int(np.ceil(1+np.log2(salta_capital.shape[0]))))\n",
    "    plt.xlabel(\"Cantidad de personas\")\n",
    "    plt.ylabel(\"Cantidad de infectados\")\n",
    "    plt.title(\"Reporte de infectados por COVID-19\")"
   ]
  },
  {
   "cell_type": "code",
   "execution_count": 37,
   "metadata": {},
   "outputs": [
    {
     "data": {
      "image/png": "[encoded data removed]",
      "text/plain": [
       "<Figure size 432x288 with 1 Axes>"
      ]
     },
     "metadata": {
      "needs_background": "light"
     },
     "output_type": "display_data"
    }
   ],
   "source": [
    "getHist(salta_capital, \"positivos\")"
   ]
  },
  {
   "cell_type": "code",
   "execution_count": 166,
   "metadata": {},
   "outputs": [
    {
     "data": {
      "image/png": "[encoded data removed]",
      "text/plain": [
       "<Figure size 432x288 with 1 Axes>"
      ]
     },
     "metadata": {
      "needs_background": "light"
     },
     "output_type": "display_data"
    }
   ],
   "source": [
    "getBoxplot(salta_capital, \"positivos\")"
   ]
  },
  {
   "cell_type": "code",
   "execution_count": null,
   "metadata": {},
   "outputs": [],
   "source": []
  }
 ],
 "metadata": {
  "kernelspec": {
   "display_name": "Python 3",
   "language": "python",
   "name": "python3"
  },
  "language_info": {
   "codemirror_mode": {
    "name": "ipython",
    "version": 3
   },
   "file_extension": ".py",
   "mimetype": "text/x-python",
   "name": "python",
   "nbconvert_exporter": "python",
   "pygments_lexer": "ipython3",
   "version": "3.7.7"
  }
 },
 "nbformat": 4,
 "nbformat_minor": 4
}
